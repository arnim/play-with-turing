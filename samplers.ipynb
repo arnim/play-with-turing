{
 "cells": [
  {
   "cell_type": "markdown",
   "metadata": {},
   "source": [
    "## Introduction\n",
    "\n",
    "**This Notebook is converted from [Turing.jl/docs/src/_docs/samplers.jmd](https://github.com/TuringLang/Turing.jl/blob/a506227e7212dde4f29e2bdeb2385433b3c1f025/docs/src/_docs/samplers.jmd)**\n",
    "\n",
    "## The Code\n",
    "\n",
    "For each sampler, we will use the same code to plot sampler paths. The block below loads the relevant libraries and defines a function for plotting the sampler's trajectory across the posterior.\n",
    "\n",
    "The Turing model definition used here is not especially practical, but it is designed in such a way as to produce visually interesting posterior surfaces to show how different samplers move along the distribution."
   ]
  },
  {
   "cell_type": "markdown",
   "metadata": {},
   "source": [
    "using Plots\n",
    "using StatPlots\n",
    "using Turing\n",
    "using Bijectors\n",
    "using Random"
   ]
  },
  {
   "cell_type": "code",
   "execution_count": null,
   "metadata": {},
   "outputs": [],
   "source": [
    "Random.seed!(0);"
   ]
  },
  {
   "cell_type": "markdown",
   "metadata": {},
   "source": [
    "Define a strange model."
   ]
  },
  {
   "cell_type": "code",
   "execution_count": null,
   "metadata": {},
   "outputs": [],
   "source": [
    "@model gdemo(x) = begin\n",
    "    s ~ InverseGamma(2,3)\n",
    "    m ~ Normal(0,sqrt(s))\n",
    "    bumps = sin(m) + cos(m)\n",
    "    m = m + 5*bumps\n",
    "    for i in eachindex(x)\n",
    "      x[i] ~ Normal(m, sqrt(s))\n",
    "    end\n",
    "    return s, m\n",
    "end"
   ]
  },
  {
   "cell_type": "markdown",
   "metadata": {},
   "source": [
    "Define our data points."
   ]
  },
  {
   "cell_type": "code",
   "execution_count": null,
   "metadata": {},
   "outputs": [],
   "source": [
    "x = [1.5, 2.0, 13.0, 2.1, 0.0]"
   ]
  },
  {
   "cell_type": "markdown",
   "metadata": {},
   "source": [
    "Set up the model call, sample from the prior."
   ]
  },
  {
   "cell_type": "code",
   "execution_count": null,
   "metadata": {},
   "outputs": [],
   "source": [
    "model = gdemo(x)\n",
    "vi = Turing.VarInfo()\n",
    "model(vi, Turing.SampleFromPrior())\n",
    "vi.flags[\"trans\"] = [true, false]"
   ]
  },
  {
   "cell_type": "markdown",
   "metadata": {},
   "source": [
    "Evaluate surface at coordinates."
   ]
  },
  {
   "cell_type": "code",
   "execution_count": null,
   "metadata": {},
   "outputs": [],
   "source": [
    "function evaluate(m1, m2)\n",
    "    vi.vals .= [m1, m2]\n",
    "    model(vi, Turing.SampleFromPrior())\n",
    "    -vi.logp\n",
    "end\n",
    "\n",
    "function plot_sampler(chain)\n",
    "    # Extract values from chain.\n",
    "    ss = link.(Ref(InverseGamma(2,3)), chain[:s])\n",
    "    ms = chain[:m]\n",
    "    lps = chain[:lp]\n",
    "\n",
    "    # How many surface points to sample.\n",
    "    granularity = 500\n",
    "\n",
    "    # Range start/stop points.\n",
    "    spread = 0.5\n",
    "    σ_start = minimum(ss) - spread * std(ss); σ_stop = maximum(ss) + spread * std(ss);\n",
    "    μ_start = minimum(ms) - spread * std(ms); μ_stop = maximum(ms) + spread * std(ms);\n",
    "    σ_rng = collect(range(σ_start, stop=σ_stop, length=granularity))\n",
    "    μ_rng = collect(range(μ_start, stop=μ_stop, length=granularity))\n",
    "\n",
    "    # Make surface plot.\n",
    "    p = surface(σ_rng, μ_rng, evaluate,\n",
    "          camera=(30, 65),\n",
    "          ticks=nothing,\n",
    "          colorbar=false,\n",
    "          color=:inferno)\n",
    "\n",
    "    line_range = 1:length(ms)\n",
    "\n",
    "    plot3d!(ss[line_range], ms[line_range], -lps[line_range],\n",
    "        lc =:viridis, line_z=collect(line_range),\n",
    "        legend=false, colorbar=false, alpha=0.5)\n",
    "\n",
    "    return p\n",
    "end"
   ]
  },
  {
   "cell_type": "markdown",
   "metadata": {},
   "source": [
    "## Samplers\n",
    "\n",
    "### Gibbs\n",
    "\n",
    "Gibbs sampling tends to exhibit a \"jittery\" trajectory. The example below combines `HMC` and `PG` sampling to traverse the posterior."
   ]
  },
  {
   "cell_type": "code",
   "execution_count": null,
   "metadata": {},
   "outputs": [],
   "source": [
    "c = sample(model, Gibbs(1000,\n",
    "  HMC(1, 0.01, 5, :s), PG(20, 1, :m)))\n",
    "plot_sampler(c)"
   ]
  },
  {
   "cell_type": "markdown",
   "metadata": {},
   "source": [
    "Other samplers can be combined as well:"
   ]
  },
  {
   "cell_type": "code",
   "execution_count": null,
   "metadata": {},
   "outputs": [],
   "source": [
    "c = sample(model, Gibbs(1000, MH(1, :s), SGLD(100, 0.01, :m)))\n",
    "plot_sampler(c)"
   ]
  },
  {
   "cell_type": "markdown",
   "metadata": {},
   "source": [
    "### HMC\n",
    "\n",
    "Hamiltonian Monte Carlo (HMC) sampling is a typical sampler to use, as it tends to be fairly good at converging in a efficient manner. It can often be tricky to set the correct parameters for this sampler however, and the `NUTS` sampler is often easier to run if you don't want to spend too much time fiddling with step size and and the number of steps to take."
   ]
  },
  {
   "cell_type": "code",
   "execution_count": null,
   "metadata": {},
   "outputs": [],
   "source": [
    "c = sample(model, HMC(1000, 0.01, 10))\n",
    "plot_sampler(c)"
   ]
  },
  {
   "cell_type": "markdown",
   "metadata": {},
   "source": [
    "### HMCDA\n",
    "\n",
    "The HMCDA sampler is an implementation of the Hamiltonian Monte Carlo with Dual Averaging algorithm found in the paper \"The No-U-Turn Sampler: Adaptively Setting Path Lengths in Hamiltonian Monte Carlo\" by Hoffman and Gelman (2011). The paper can be found on [arXiv](https://arxiv.org/abs/1111.4246) for the interested reader."
   ]
  },
  {
   "cell_type": "code",
   "execution_count": null,
   "metadata": {},
   "outputs": [],
   "source": [
    "c = sample(model, HMCDA(1000, 200, 0.65, 0.3))\n",
    "plot_sampler(c)"
   ]
  },
  {
   "cell_type": "markdown",
   "metadata": {},
   "source": [
    "### IS\n",
    "\n",
    "Importance Sampling (IS) attempts to identify parameters that appear more important to the posterior, and sample them more often."
   ]
  },
  {
   "cell_type": "code",
   "execution_count": null,
   "metadata": {},
   "outputs": [],
   "source": [
    "c = sample(model, IS(1000))\n",
    "plot_sampler(c)"
   ]
  },
  {
   "cell_type": "code",
   "execution_count": null,
   "metadata": {},
   "outputs": [],
   "source": [
    "### MH\n",
    "\n",
    "Metropolis-Hastings (MH) sampling is one of the earliest Markov Chain Monte Carlo methods. MH sampling does not \"move\" a lot, unlike many of the other samplers implemented in Turing. Typically a much longer chain is required to converge to an appropriate parameter estimate.\n",
    "\n",
    "The plot below only uses 1,000 iterations of Metropolis-Hastings."
   ]
  },
  {
   "cell_type": "code",
   "execution_count": null,
   "metadata": {},
   "outputs": [],
   "source": [
    "c = sample(model, MH(1000))\n",
    "plot_sampler(c)"
   ]
  },
  {
   "cell_type": "markdown",
   "metadata": {},
   "source": [
    "As you can see, the MH sampler doesn't move parameter estimates very often.\n",
    "\n",
    "### NUTS\n",
    "\n",
    "The No U-Turn Sampler (NUTS) is an implementation of the algorithm found in the paper \"The No-U-Turn Sampler: Adaptively Setting Path Lengths in Hamiltonian Monte Carlo\" by Hoffman and Gelman (2011). The paper can be found on [arXiv](https://arxiv.org/abs/1111.4246) for the interested reader.\n",
    "\n",
    "NUTS tends to be very good at traversing the minima of complex posteriors quickly."
   ]
  },
  {
   "cell_type": "code",
   "execution_count": null,
   "metadata": {},
   "outputs": [],
   "source": [
    "c = sample(model, NUTS(1000, 0.65))\n",
    "plot_sampler(c)"
   ]
  },
  {
   "cell_type": "markdown",
   "metadata": {},
   "source": [
    "The only parameter that needs to be set other than the number of iterations to run is the target acceptance rate. In the Hoffman and Gelman paper, they note that a target acceptance rate of 0.65 is typical.\n",
    "\n",
    "Here is a plot showing a very high acceptance rate. Note that it appears to \"stick\" to a locla minima and is not particularly good at exploring the posterior."
   ]
  },
  {
   "cell_type": "code",
   "execution_count": null,
   "metadata": {},
   "outputs": [],
   "source": [
    "c = sample(model, NUTS(1000, 0.95))\n",
    "plot_sampler(c)"
   ]
  },
  {
   "cell_type": "code",
   "execution_count": null,
   "metadata": {},
   "outputs": [],
   "source": [
    "An exceptionally low acceptance rate will show very few moves on the posterior:"
   ]
  },
  {
   "cell_type": "code",
   "execution_count": null,
   "metadata": {},
   "outputs": [],
   "source": [
    "c = sample(model, NUTS(1000, 0.2))\n",
    "plot_sampler(c)"
   ]
  },
  {
   "cell_type": "markdown",
   "metadata": {},
   "source": [
    "### PG\n",
    "\n",
    "The Particle Gibbs (PG) sampler is an implementation of an algorithm from the paper \"Particle Markov chain Monte Carlo methods\" by Andrieu, Doucet, and Holenstein (2010). The interested reader can learn more [here](https://rss.onlinelibrary.wiley.com/doi/full/10.1111/j.1467-9868.2009.00736.x).\n",
    "\n",
    "The two parameters are the number of particles, and the number of iterations. The plot below shows the use of 20 particles."
   ]
  },
  {
   "cell_type": "code",
   "execution_count": null,
   "metadata": {},
   "outputs": [],
   "source": [
    "c = sample(model, PG(20, 1000))\n",
    "plot_sampler(c)"
   ]
  },
  {
   "cell_type": "markdown",
   "metadata": {},
   "source": [
    "Next, we plot using 50 particles."
   ]
  },
  {
   "cell_type": "code",
   "execution_count": null,
   "metadata": {},
   "outputs": [],
   "source": [
    "c = sample(model, PG(50, 1000))\n",
    "plot_sampler(c)"
   ]
  },
  {
   "cell_type": "markdown",
   "metadata": {},
   "source": [
    "### PMMH\n",
    "\n",
    "The Particle Marginal Metropolis-Hastings (PMMH) sampler is an implementation of an algorithm from the paper \"Particle Markov chain Monte Carlo methods\" by Andrieu, Doucet, and Holenstein (2010). The interested reader can learn more [here](https://rss.onlinelibrary.wiley.com/doi/full/10.1111/j.1467-9868.2009.00736.x).\n",
    "\n",
    "PMMH supports the use of different samplers across different parameter spaces, similar to the Gibbs sampler. The plot below uses SMC and MH."
   ]
  },
  {
   "cell_type": "code",
   "execution_count": null,
   "metadata": {},
   "outputs": [],
   "source": [
    "c = sample(model, PMMH(1000, SMC(20, :m), MH(10,:s)))\n",
    "plot_sampler(c)"
   ]
  },
  {
   "cell_type": "markdown",
   "metadata": {},
   "source": [
    "### PIMH\n",
    "\n",
    "In addition to PMMH, Turing also support the Particle Independent Metropolis-Hastings (PIMH). PIMH accepts a number of iterations, and an SMC call."
   ]
  },
  {
   "cell_type": "code",
   "execution_count": null,
   "metadata": {},
   "outputs": [],
   "source": [
    "c = sample(model, PIMH(1000, SMC(20)))\n",
    "plot_sampler(c)"
   ]
  },
  {
   "cell_type": "markdown",
   "metadata": {},
   "source": [
    "### SGHMC\n",
    "\n",
    "Stochastic Gradient Hamiltonian Monte Carlo (SGHMC) tends to produce sampling paths not unlike that of stochastic gradient descent in other machine learning model types. It is an implementation of an algorithm in the paper \"Stochastic Gradient Hamiltonian Monte Carlo\" by Chen, Fox, and Guestrin (2014). The interested reader can learn more [here](https://arxiv.org/abs/1402.4102).\n",
    "\n",
    "\n",
    "The two parameters used in SGHMC are the learing rate and the momentum decay. Here is sampler with a higher momentum decay of 0.1:"
   ]
  },
  {
   "cell_type": "code",
   "execution_count": null,
   "metadata": {},
   "outputs": [],
   "source": [
    "c = sample(model, SGHMC(1000, 0.001, 0.1))\n",
    "plot_sampler(c)"
   ]
  },
  {
   "cell_type": "markdown",
   "metadata": {},
   "source": [
    "And the same sampler with a much lower momentum decay:"
   ]
  },
  {
   "cell_type": "code",
   "execution_count": null,
   "metadata": {},
   "outputs": [],
   "source": [
    "c = sample(model, SGHMC(1000, 0.001, 0.01))\n",
    "plot_sampler(c)"
   ]
  },
  {
   "cell_type": "markdown",
   "metadata": {},
   "source": [
    "### SGLD\n",
    "\n",
    "The Stochastic Gradient Langevin Dynamics (SGLD) is based on the paper \"Bayesian learning via stochastic gradient langevin dynamics\" by Welling and Teh (2011). A link to the article can be found [here](https://dl.acm.org/citation.cfm?id=3104568)."
   ]
  },
  {
   "cell_type": "code",
   "execution_count": null,
   "metadata": {},
   "outputs": [],
   "source": [
    "c = sample(model, SGLD(1000, 0.01))\n",
    "plot_sampler(c)"
   ]
  },
  {
   "cell_type": "markdown",
   "metadata": {},
   "source": [
    "### SMC\n",
    "\n",
    "The Sequential Monte Carlo (SMC) method accepts a number of iterations to use, and tends to be less active than some of the Hamiltonian methods show in above samplers."
   ]
  },
  {
   "cell_type": "code",
   "execution_count": null,
   "metadata": {},
   "outputs": [],
   "source": [
    "c = sample(model, SMC(1000))\n",
    "plot_sampler(c)\n",
    "```"
   ]
  }
 ],
 "metadata": {
  "kernelspec": {
   "display_name": "Julia 1.0.0",
   "language": "julia",
   "name": "julia-1.0"
  },
  "language_info": {
   "file_extension": ".jl",
   "mimetype": "application/julia",
   "name": "julia",
   "version": "1.0.0"
  }
 },
 "nbformat": 4,
 "nbformat_minor": 2
}
